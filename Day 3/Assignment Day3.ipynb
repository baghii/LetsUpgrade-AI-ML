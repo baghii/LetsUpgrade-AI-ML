{
 "cells": [
  {
   "cell_type": "code",
   "execution_count": 1,
   "metadata": {},
   "outputs": [
    {
     "name": "stdout",
     "output_type": "stream",
     "text": [
      "(13+13j)\n"
     ]
    }
   ],
   "source": [
    "a = (6+6j)\n",
    "b = (7+7j)\n",
    "print(a+b)"
   ]
  },
  {
   "cell_type": "code",
   "execution_count": 2,
   "metadata": {},
   "outputs": [
    {
     "data": {
      "text/plain": [
       "2.0"
      ]
     },
     "execution_count": 2,
     "metadata": {},
     "output_type": "execute_result"
    }
   ],
   "source": [
    "16**(1/4)"
   ]
  },
  {
   "cell_type": "code",
   "execution_count": 3,
   "metadata": {},
   "outputs": [
    {
     "name": "stdout",
     "output_type": "stream",
     "text": [
      "a= 6 b= 7\n",
      "a= 7 b= 6\n"
     ]
    }
   ],
   "source": [
    "a = 6\n",
    "b = 7\n",
    "print('a=', a, 'b=',b)\n",
    "c = b\n",
    "b = a\n",
    "a = c\n",
    "print('a=', a, 'b=',b)"
   ]
  },
  {
   "cell_type": "code",
   "execution_count": 4,
   "metadata": {},
   "outputs": [
    {
     "name": "stdout",
     "output_type": "stream",
     "text": [
      "d= 10 e= 20\n",
      "d= 20 e= 10\n"
     ]
    }
   ],
   "source": [
    "d = 10\n",
    "e = 20\n",
    "print('d=', d, 'e=',e)\n",
    "e,d = d,e\n",
    "print('d=', d, 'e=',e)"
   ]
  },
  {
   "cell_type": "code",
   "execution_count": 5,
   "metadata": {},
   "outputs": [
    {
     "name": "stdout",
     "output_type": "stream",
     "text": [
      "Fahrenheit = 212.0\n",
      "kelvin = 373.15\n",
      "celsius = 100.0\n"
     ]
    }
   ],
   "source": [
    "f = 212.0\n",
    "k = ((5/9)*(f - 32) + 273.15)\n",
    "c = (f - 32)/ 1.80\n",
    "print(\"Fahrenheit =\", f)\n",
    "print(\"kelvin =\", k)\n",
    "print(\"celsius =\", c)"
   ]
  },
  {
   "cell_type": "code",
   "execution_count": 6,
   "metadata": {},
   "outputs": [
    {
     "name": "stdout",
     "output_type": "stream",
     "text": [
      "<class 'int'>\n",
      "<class 'float'>\n",
      "<class 'str'>\n",
      "<class 'bool'>\n"
     ]
    }
   ],
   "source": [
    "a = 5\n",
    "b = 5.6\n",
    "c = \"hello\"\n",
    "d = True\n",
    "\n",
    "print(type(a))\n",
    "print(type(b))\n",
    "print(type(c))\n",
    "print(type(d))"
   ]
  },
  {
   "cell_type": "markdown",
   "metadata": {},
   "source": [
    "# Create Github profile\n",
    "1. __[www.github.com](https://www.github.com)__\n",
    "2. Login or SignUp using gmail account.\n",
    "3. Create a public New Repository __Letsupgrade-AL-ML__\n",
    "4. Upload jupyter file day wise in the repository\n"
   ]
  },
  {
   "cell_type": "markdown",
   "metadata": {},
   "source": [
    "# Upload Github Assignment Link:\n",
    "1. Visit  __[Assignment Submit Form](https://bit.ly/aimlassignment)__\n",
    "2. Fill the form correctly and use registred email id or mobile no\n",
    "3. After paste the github link of the assignment.\n",
    "4. Verified the day before submit the assgnment\n",
    "5. Then Submit the form\n",
    "6. After successfully submit the form you receive a email \n",
    "\n",
    "\n",
    "__Note: Every Sunday 11:55 PM is the last time of submit the weekly after the deadline submit of previous week assignment should not be possible__"
   ]
  },
  {
   "cell_type": "code",
   "execution_count": null,
   "metadata": {},
   "outputs": [],
   "source": []
  }
 ],
 "metadata": {
  "kernelspec": {
   "display_name": "Python 3",
   "language": "python",
   "name": "python3"
  },
  "language_info": {
   "codemirror_mode": {
    "name": "ipython",
    "version": 3
   },
   "file_extension": ".py",
   "mimetype": "text/x-python",
   "name": "python",
   "nbconvert_exporter": "python",
   "pygments_lexer": "ipython3",
   "version": "3.7.7"
  }
 },
 "nbformat": 4,
 "nbformat_minor": 4
}
