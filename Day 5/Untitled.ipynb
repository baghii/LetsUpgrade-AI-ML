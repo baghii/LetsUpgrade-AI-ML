{
 "cells": [
  {
   "cell_type": "code",
   "execution_count": 18,
   "metadata": {},
   "outputs": [
    {
     "name": "stdout",
     "output_type": "stream",
     "text": [
      "3\n",
      "5\n",
      "7\n",
      "11\n",
      "13\n",
      "17\n",
      "19\n",
      "23\n",
      "29\n",
      "31\n",
      "37\n",
      "41\n",
      "43\n",
      "47\n",
      "53\n",
      "59\n",
      "61\n",
      "67\n",
      "71\n"
     ]
    }
   ],
   "source": [
    "start = 1\n",
    "end = 72\n",
    "  \n",
    "for val in range(start, end + 1): \n",
    "    if val > 1: \n",
    "        for n in range(2, val//2 + 2): \n",
    "            if (val % n) == 0: \n",
    "                break\n",
    "            else: \n",
    "                if n == val//2 + 1: \n",
    "                    print(val) \n",
    "    "
   ]
  },
  {
   "cell_type": "code",
   "execution_count": 32,
   "metadata": {},
   "outputs": [
    {
     "name": "stdout",
     "output_type": "stream",
     "text": [
      "['Wh', 't will h', 've so will']\n",
      "22\n",
      "w\n",
      " \n",
      "False\n",
      "False\n",
      "False\n",
      "False\n",
      "False\n",
      "False\n",
      "False\n",
      "2\n",
      "11\n",
      "2\n"
     ]
    }
   ],
   "source": [
    "line =  \"What will have so will\"\n",
    "L = line.split('a')\n",
    "print(L)\n",
    "print(len(line))\n",
    "print(max(line))\n",
    "print(min(line))\n",
    "print(line.isalnum())\n",
    "print(line.isalpha())\n",
    "print(line.isdigit())\n",
    "print(line.isidentifier())\n",
    "print(line.islower())\n",
    "print(line.isupper())\n",
    "print(line.isspace())\n",
    "print(line.find('a'))\n",
    "print(line.rfind('a'))\n",
    "print(line.count('a'))"
   ]
  },
  {
   "cell_type": "code",
   "execution_count": 35,
   "metadata": {},
   "outputs": [
    {
     "name": "stdout",
     "output_type": "stream",
     "text": [
      "No\n"
     ]
    }
   ],
   "source": [
    "NO_OF_CHARS = 256\n",
    "    \n",
    "def canFormPalindrome(string): \n",
    "    count = [0 for i in range(NO_OF_CHARS)] \n",
    "      \n",
    "    for i in string: \n",
    "        count[ord(i)] += 1\n",
    "    \n",
    "    odd = 0\n",
    "    for i in range(NO_OF_CHARS): \n",
    "        if (count[i] & 1): \n",
    "            odd += 1\n",
    "   \n",
    "        if (odd > 1): \n",
    "            return False\n",
    "    \n",
    "    \n",
    "    return True\n",
    "\n",
    "if(canFormPalindrome(\"letsupgrade\")): \n",
    "    print(\"Yes\")\n",
    "else: \n",
    "    print(\"No\")"
   ]
  },
  {
   "cell_type": "markdown",
   "metadata": {},
   "source": [
    "need two stringd to find anagram"
   ]
  },
  {
   "cell_type": "code",
   "execution_count": 49,
   "metadata": {},
   "outputs": [
    {
     "name": "stdout",
     "output_type": "stream",
     "text": [
      "Original String : Dr. Darshan Ingle@AI-ML Trainer\n",
      "Resultant list is : drdarshaningleaimltrainer\n"
     ]
    }
   ],
   "source": [
    "\n",
    "# Python3 code to demonstrate  \n",
    "# removal of bad_chars \n",
    "# using replace() \n",
    "  \n",
    "# initializing bad_chars_list \n",
    "bad_chars = [';' ,'-', '.', \"@\", \" \"] \n",
    "  \n",
    "# initializing test string  \n",
    "test_string = \"Dr. Darshan Ingle@AI-ML Trainer\"\n",
    "  \n",
    "# printing original string  \n",
    "print (\"Original String : \" + test_string) \n",
    "  \n",
    "# using replace() to  \n",
    "# remove bad_chars  \n",
    "for i in bad_chars : \n",
    "    test_string = test_string.replace(i, '') \n",
    "  \n",
    "# printing resultant string  \n",
    "print (\"Resultant list is : \" + str(test_string).lower()) "
   ]
  },
  {
   "cell_type": "code",
   "execution_count": null,
   "metadata": {},
   "outputs": [],
   "source": []
  }
 ],
 "metadata": {
  "kernelspec": {
   "display_name": "Python 3",
   "language": "python",
   "name": "python3"
  },
  "language_info": {
   "codemirror_mode": {
    "name": "ipython",
    "version": 3
   },
   "file_extension": ".py",
   "mimetype": "text/x-python",
   "name": "python",
   "nbconvert_exporter": "python",
   "pygments_lexer": "ipython3",
   "version": "3.7.7"
  }
 },
 "nbformat": 4,
 "nbformat_minor": 4
}
