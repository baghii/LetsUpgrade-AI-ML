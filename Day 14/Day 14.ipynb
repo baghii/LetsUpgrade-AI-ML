{
  "nbformat": 4,
  "nbformat_minor": 0,
  "metadata": {
    "kernelspec": {
      "display_name": "Python 3",
      "language": "python",
      "name": "python3"
    },
    "language_info": {
      "codemirror_mode": {
        "name": "ipython",
        "version": 3
      },
      "file_extension": ".py",
      "mimetype": "text/x-python",
      "name": "python",
      "nbconvert_exporter": "python",
      "pygments_lexer": "ipython3",
      "version": "3.7.4"
    },
    "colab": {
      "name": "Numpy Assignment Questions 23 july 2020- Lets Upgrade.ipynb",
      "provenance": []
    }
  },
  "cells": [
    {
      "cell_type": "code",
      "metadata": {
        "id": "zIE8Ci0xF4kB",
        "colab_type": "code",
        "colab": {}
      },
      "source": [
        "import numpy as np"
      ],
      "execution_count": 2,
      "outputs": []
    },
    {
      "cell_type": "markdown",
      "metadata": {
        "id": "ZrGMEkNlFr0w",
        "colab_type": "text"
      },
      "source": [
        "# 1. Create a 3x3x3 array with random values "
      ]
    },
    {
      "cell_type": "code",
      "metadata": {
        "id": "W0tBtbqTFr0y",
        "colab_type": "code",
        "colab": {
          "base_uri": "https://localhost:8080/",
          "height": 202
        },
        "outputId": "17c7b262-4417-42e6-b114-2a3ddf96485f"
      },
      "source": [
        "np.random.random((3,3,3))"
      ],
      "execution_count": 3,
      "outputs": [
        {
          "output_type": "execute_result",
          "data": {
            "text/plain": [
              "array([[[0.23325788, 0.15345678, 0.44763208],\n",
              "        [0.01983525, 0.57420416, 0.9099786 ],\n",
              "        [0.18927832, 0.66095594, 0.9667938 ]],\n",
              "\n",
              "       [[0.27678927, 0.56301793, 0.1790592 ],\n",
              "        [0.17514191, 0.75258145, 0.17420577],\n",
              "        [0.07575552, 0.37732744, 0.14157156]],\n",
              "\n",
              "       [[0.18802621, 0.48382303, 0.59786631],\n",
              "        [0.58079164, 0.81129194, 0.93750961],\n",
              "        [0.20118383, 0.22703184, 0.96066885]]])"
            ]
          },
          "metadata": {
            "tags": []
          },
          "execution_count": 3
        }
      ]
    },
    {
      "cell_type": "markdown",
      "metadata": {
        "id": "8S-tGH-8Fr04",
        "colab_type": "text"
      },
      "source": [
        "# 2.Create a 5x5 matrix with values 1,2,3,4 just below the diagonal"
      ]
    },
    {
      "cell_type": "code",
      "metadata": {
        "id": "x-AKq8QJFr05",
        "colab_type": "code",
        "colab": {
          "base_uri": "https://localhost:8080/",
          "height": 101
        },
        "outputId": "82298d5f-8351-4ad0-bba3-eaa8b623dd4a"
      },
      "source": [
        "np.diag(1+np.arange(4),k=-1)"
      ],
      "execution_count": 4,
      "outputs": [
        {
          "output_type": "execute_result",
          "data": {
            "text/plain": [
              "array([[0, 0, 0, 0, 0],\n",
              "       [1, 0, 0, 0, 0],\n",
              "       [0, 2, 0, 0, 0],\n",
              "       [0, 0, 3, 0, 0],\n",
              "       [0, 0, 0, 4, 0]])"
            ]
          },
          "metadata": {
            "tags": []
          },
          "execution_count": 4
        }
      ]
    },
    {
      "cell_type": "markdown",
      "metadata": {
        "id": "UYJtVH_AFr09",
        "colab_type": "text"
      },
      "source": [
        "# 3.Create a 8x8 matrix and fill it with a checkerboard pattern"
      ]
    },
    {
      "cell_type": "code",
      "metadata": {
        "id": "oj4rSiWqFr0-",
        "colab_type": "code",
        "colab": {
          "base_uri": "https://localhost:8080/",
          "height": 151
        },
        "outputId": "8bcef711-8eb7-4f77-c05a-b0666c2e80a9"
      },
      "source": [
        "a = np.zeros((8,8))\n",
        "a[1::2, ::2] = 1\n",
        "a[::2, 1::2] = 1\n",
        "print(a)"
      ],
      "execution_count": 10,
      "outputs": [
        {
          "output_type": "stream",
          "text": [
            "[[0. 1. 0. 1. 0. 1. 0. 1.]\n",
            " [1. 0. 1. 0. 1. 0. 1. 0.]\n",
            " [0. 1. 0. 1. 0. 1. 0. 1.]\n",
            " [1. 0. 1. 0. 1. 0. 1. 0.]\n",
            " [0. 1. 0. 1. 0. 1. 0. 1.]\n",
            " [1. 0. 1. 0. 1. 0. 1. 0.]\n",
            " [0. 1. 0. 1. 0. 1. 0. 1.]\n",
            " [1. 0. 1. 0. 1. 0. 1. 0.]]\n"
          ],
          "name": "stdout"
        }
      ]
    },
    {
      "cell_type": "markdown",
      "metadata": {
        "id": "O4XqRyZLFr1B",
        "colab_type": "text"
      },
      "source": [
        "# 4. Normalize a 5x5 random matrix"
      ]
    },
    {
      "cell_type": "code",
      "metadata": {
        "id": "jATT-gG_Fr1C",
        "colab_type": "code",
        "colab": {
          "base_uri": "https://localhost:8080/",
          "height": 101
        },
        "outputId": "905a20f2-53ad-42db-fc96-8df2ccf9b373"
      },
      "source": [
        "b = np.random.random((5,5))\n",
        "b = (b - np.mean(b)) / (np.std(b))\n",
        "print(b)"
      ],
      "execution_count": 11,
      "outputs": [
        {
          "output_type": "stream",
          "text": [
            "[[-1.02990418  0.36172332  1.40490576  0.67143605 -1.19748056]\n",
            " [ 1.28229966 -0.80257091 -1.00694102 -0.22520841 -0.39935801]\n",
            " [ 1.33844221 -1.37317599  0.41917047  0.21808462  1.25170351]\n",
            " [ 1.05405305  0.51621343 -1.90260077  0.19938929  1.00227284]\n",
            " [ 0.95861991 -0.68734131 -0.35118459 -1.84236843  0.13982006]]\n"
          ],
          "name": "stdout"
        }
      ]
    },
    {
      "cell_type": "markdown",
      "metadata": {
        "id": "k6ZvTHFVFr1F",
        "colab_type": "text"
      },
      "source": [
        "# 5.  How to find common values between two arrays?"
      ]
    },
    {
      "cell_type": "code",
      "metadata": {
        "id": "nP_frN65Fr1G",
        "colab_type": "code",
        "colab": {
          "base_uri": "https://localhost:8080/",
          "height": 34
        },
        "outputId": "886a9bb6-c361-4b06-c9b0-1e175a00a1a4"
      },
      "source": [
        "c = np.random.randint(0,10,10)\n",
        "d = np.random.randint(0,10,10)\n",
        "print(np.intersect1d(c,d))"
      ],
      "execution_count": 13,
      "outputs": [
        {
          "output_type": "stream",
          "text": [
            "[1 4 5 9]\n"
          ],
          "name": "stdout"
        }
      ]
    },
    {
      "cell_type": "markdown",
      "metadata": {
        "id": "GLUNZCdQFr1K",
        "colab_type": "text"
      },
      "source": [
        "# 6.How to get the dates of yesterday, today and tomorrow?"
      ]
    },
    {
      "cell_type": "code",
      "metadata": {
        "id": "vgQ1n35jFr1L",
        "colab_type": "code",
        "colab": {
          "base_uri": "https://localhost:8080/",
          "height": 67
        },
        "outputId": "5a989967-89d6-4b73-c7bf-95267de69307"
      },
      "source": [
        "print('yesterday =',np.datetime64('today') - np.timedelta64(1))\n",
        "print('today =',np.datetime64('today'))\n",
        "print('tomorrow =',np.datetime64('today') + - np.timedelta64(1))"
      ],
      "execution_count": 17,
      "outputs": [
        {
          "output_type": "stream",
          "text": [
            "yesterday = 2020-07-31\n",
            "today = 2020-08-01\n",
            "tomorrow = 2020-07-31\n"
          ],
          "name": "stdout"
        }
      ]
    },
    {
      "cell_type": "markdown",
      "metadata": {
        "id": "MG-hYEpLFr1P",
        "colab_type": "text"
      },
      "source": [
        "# 7. Consider two random array A and B, check if they are equal"
      ]
    },
    {
      "cell_type": "code",
      "metadata": {
        "id": "K3jJ-fWRFr1P",
        "colab_type": "code",
        "colab": {
          "base_uri": "https://localhost:8080/",
          "height": 50
        },
        "outputId": "833aa26d-5d91-43e9-d45b-f7ac5fd18be2"
      },
      "source": [
        "e = np.random.randint(0,2,10)\n",
        "f = np.random.randint(0,2,10)\n",
        "\n",
        "print(np.allclose(e,f))\n",
        "\n",
        "print(np.array_equal(e,f))"
      ],
      "execution_count": 20,
      "outputs": [
        {
          "output_type": "stream",
          "text": [
            "False\n",
            "False\n"
          ],
          "name": "stdout"
        }
      ]
    },
    {
      "cell_type": "markdown",
      "metadata": {
        "id": "RnIVwmFbFr1W",
        "colab_type": "text"
      },
      "source": [
        "# 8.Create random vector of size 10 and replace the maximum value by 0 "
      ]
    },
    {
      "cell_type": "code",
      "metadata": {
        "id": "aRYpuhUrFr1W",
        "colab_type": "code",
        "colab": {
          "base_uri": "https://localhost:8080/",
          "height": 67
        },
        "outputId": "56ccaab9-2308-424f-e49d-40ad3be021cf"
      },
      "source": [
        "a = np.random.random(15)\n",
        "a[a.argmax()] = 0\n",
        "print(a)"
      ],
      "execution_count": 23,
      "outputs": [
        {
          "output_type": "stream",
          "text": [
            "[0.47333022 0.22094699 0.59422986 0.75443808 0.         0.67180183\n",
            " 0.55229508 0.25468206 0.35936304 0.53668016 0.22180152 0.90302565\n",
            " 0.5425886  0.23188908 0.6015372 ]\n"
          ],
          "name": "stdout"
        }
      ]
    },
    {
      "cell_type": "markdown",
      "metadata": {
        "id": "D-Radet8Fr1b",
        "colab_type": "text"
      },
      "source": [
        "# 9. How to print all the values of an array?"
      ]
    },
    {
      "cell_type": "code",
      "metadata": {
        "id": "Zlzf3kt5Fr1b",
        "colab_type": "code",
        "colab": {
          "base_uri": "https://localhost:8080/",
          "height": 353
        },
        "outputId": "77b1c8f9-7809-4da7-b9f4-05ffe8c17217"
      },
      "source": [
        "np.set_printoptions(threshold=float(\"inf\"))\n",
        "a = np.ones((20,20))\n",
        "print(a)"
      ],
      "execution_count": 27,
      "outputs": [
        {
          "output_type": "stream",
          "text": [
            "[[1. 1. 1. 1. 1. 1. 1. 1. 1. 1. 1. 1. 1. 1. 1. 1. 1. 1. 1. 1.]\n",
            " [1. 1. 1. 1. 1. 1. 1. 1. 1. 1. 1. 1. 1. 1. 1. 1. 1. 1. 1. 1.]\n",
            " [1. 1. 1. 1. 1. 1. 1. 1. 1. 1. 1. 1. 1. 1. 1. 1. 1. 1. 1. 1.]\n",
            " [1. 1. 1. 1. 1. 1. 1. 1. 1. 1. 1. 1. 1. 1. 1. 1. 1. 1. 1. 1.]\n",
            " [1. 1. 1. 1. 1. 1. 1. 1. 1. 1. 1. 1. 1. 1. 1. 1. 1. 1. 1. 1.]\n",
            " [1. 1. 1. 1. 1. 1. 1. 1. 1. 1. 1. 1. 1. 1. 1. 1. 1. 1. 1. 1.]\n",
            " [1. 1. 1. 1. 1. 1. 1. 1. 1. 1. 1. 1. 1. 1. 1. 1. 1. 1. 1. 1.]\n",
            " [1. 1. 1. 1. 1. 1. 1. 1. 1. 1. 1. 1. 1. 1. 1. 1. 1. 1. 1. 1.]\n",
            " [1. 1. 1. 1. 1. 1. 1. 1. 1. 1. 1. 1. 1. 1. 1. 1. 1. 1. 1. 1.]\n",
            " [1. 1. 1. 1. 1. 1. 1. 1. 1. 1. 1. 1. 1. 1. 1. 1. 1. 1. 1. 1.]\n",
            " [1. 1. 1. 1. 1. 1. 1. 1. 1. 1. 1. 1. 1. 1. 1. 1. 1. 1. 1. 1.]\n",
            " [1. 1. 1. 1. 1. 1. 1. 1. 1. 1. 1. 1. 1. 1. 1. 1. 1. 1. 1. 1.]\n",
            " [1. 1. 1. 1. 1. 1. 1. 1. 1. 1. 1. 1. 1. 1. 1. 1. 1. 1. 1. 1.]\n",
            " [1. 1. 1. 1. 1. 1. 1. 1. 1. 1. 1. 1. 1. 1. 1. 1. 1. 1. 1. 1.]\n",
            " [1. 1. 1. 1. 1. 1. 1. 1. 1. 1. 1. 1. 1. 1. 1. 1. 1. 1. 1. 1.]\n",
            " [1. 1. 1. 1. 1. 1. 1. 1. 1. 1. 1. 1. 1. 1. 1. 1. 1. 1. 1. 1.]\n",
            " [1. 1. 1. 1. 1. 1. 1. 1. 1. 1. 1. 1. 1. 1. 1. 1. 1. 1. 1. 1.]\n",
            " [1. 1. 1. 1. 1. 1. 1. 1. 1. 1. 1. 1. 1. 1. 1. 1. 1. 1. 1. 1.]\n",
            " [1. 1. 1. 1. 1. 1. 1. 1. 1. 1. 1. 1. 1. 1. 1. 1. 1. 1. 1. 1.]\n",
            " [1. 1. 1. 1. 1. 1. 1. 1. 1. 1. 1. 1. 1. 1. 1. 1. 1. 1. 1. 1.]]\n"
          ],
          "name": "stdout"
        }
      ]
    },
    {
      "cell_type": "markdown",
      "metadata": {
        "id": "WLnzVyQpFr1e",
        "colab_type": "text"
      },
      "source": [
        "# 10.Subtract the mean of each row of a matrix"
      ]
    },
    {
      "cell_type": "code",
      "metadata": {
        "id": "IJbQ9OIGFr1f",
        "colab_type": "code",
        "colab": {
          "base_uri": "https://localhost:8080/",
          "height": 353
        },
        "outputId": "86fb625e-7cf9-43df-e8e5-f2ebf191b375"
      },
      "source": [
        "a = np.random.rand(5,10)\n",
        "print(a)\n",
        "b = a - a.mean()\n",
        "\n",
        "print(b)"
      ],
      "execution_count": 29,
      "outputs": [
        {
          "output_type": "stream",
          "text": [
            "[[0.00943409 0.81441451 0.13497502 0.96573914 0.2967262  0.32381046\n",
            "  0.32750489 0.75056711 0.14664717 0.40373789]\n",
            " [0.42625442 0.17041826 0.75192143 0.24143191 0.79022012 0.90776025\n",
            "  0.92178443 0.54929669 0.18151815 0.6990179 ]\n",
            " [0.06877897 0.93397639 0.06142174 0.71489545 0.18629474 0.94957714\n",
            "  0.08804706 0.8850825  0.96976453 0.89945294]\n",
            " [0.74800535 0.62397484 0.39425192 0.71698597 0.79858414 0.79274736\n",
            "  0.09899581 0.96307749 0.04711929 0.49583184]\n",
            " [0.76245634 0.33719927 0.11029991 0.32449106 0.8381822  0.99705232\n",
            "  0.1675421  0.64437297 0.62510583 0.51576866]]\n",
            "[[-0.52201623  0.28296419 -0.3964753   0.43428882 -0.23472413 -0.20763986\n",
            "  -0.20394544  0.21911679 -0.38480315 -0.12771243]\n",
            " [-0.10519591 -0.36103207  0.2204711  -0.29001841  0.2587698   0.37630992\n",
            "   0.39033411  0.01784637 -0.34993217  0.16756757]\n",
            " [-0.46267135  0.40252607 -0.47002859  0.18344513 -0.34515559  0.41812682\n",
            "  -0.44340327  0.35363217  0.4383142   0.36800262]\n",
            " [ 0.21655503  0.09252452 -0.13719841  0.18553565  0.26713382  0.26129704\n",
            "  -0.43245451  0.43162717 -0.48433103 -0.03561848]\n",
            " [ 0.23100602 -0.19425105 -0.42115042 -0.20695926  0.30673188  0.46560199\n",
            "  -0.36390823  0.11292264  0.09365551 -0.01568167]]\n"
          ],
          "name": "stdout"
        }
      ]
    },
    {
      "cell_type": "markdown",
      "metadata": {
        "id": "vsz4x46EFr1j",
        "colab_type": "text"
      },
      "source": [
        "# 11.Consider a given vector, how to add 1 to each element indexed by a second vector (be careful with repeated indices)? "
      ]
    },
    {
      "cell_type": "code",
      "metadata": {
        "id": "YqFVqmiXFr1j",
        "colab_type": "code",
        "colab": {
          "base_uri": "https://localhost:8080/",
          "height": 34
        },
        "outputId": "1b11162d-64c9-4ca9-eb0a-a27951c5bf9b"
      },
      "source": [
        "Z = np.ones(10)\n",
        "I = np.random.randint(0,len(Z),20)\n",
        "Z += np.bincount(I, minlength=len(Z))\n",
        "print(Z)"
      ],
      "execution_count": 30,
      "outputs": [
        {
          "output_type": "stream",
          "text": [
            "[3. 2. 3. 4. 3. 4. 3. 2. 3. 3.]\n"
          ],
          "name": "stdout"
        }
      ]
    },
    {
      "cell_type": "code",
      "metadata": {
        "id": "anK05aW-Fr1m",
        "colab_type": "code",
        "colab": {
          "base_uri": "https://localhost:8080/",
          "height": 34
        },
        "outputId": "21c1bfc7-8d79-4470-870f-025cce17bc9b"
      },
      "source": [
        "np.add.at(Z, I, 1)\n",
        "print(Z)"
      ],
      "execution_count": 31,
      "outputs": [
        {
          "output_type": "stream",
          "text": [
            "[5. 3. 5. 7. 5. 7. 5. 3. 5. 5.]\n"
          ],
          "name": "stdout"
        }
      ]
    },
    {
      "cell_type": "markdown",
      "metadata": {
        "id": "AmHNw_wjFr1p",
        "colab_type": "text"
      },
      "source": [
        "# 12.How to get the diagonal of a dot product?"
      ]
    },
    {
      "cell_type": "code",
      "metadata": {
        "id": "awMqcZ2eFr1q",
        "colab_type": "code",
        "colab": {
          "base_uri": "https://localhost:8080/",
          "height": 238
        },
        "outputId": "8914af34-9c44-4693-aa61-a09b927b6a5d"
      },
      "source": [
        "A = np.random.uniform(0,1,(5,5))\n",
        "B = np.random.uniform(0,1,(5,5))\n",
        "print(A)\n",
        "print(B)\n",
        "# Slow version\n",
        "prod1=np.diag(np.dot(A, B))\n",
        "\n",
        "# Fast version\n",
        "prod2=np.sum(A * B.T, axis=1)\n",
        "\n",
        "print(\"diagonal of a dot product method 1 is....\",prod1)\n",
        "print(\"diagonal of a dot product method 2 is....\",prod2)"
      ],
      "execution_count": 32,
      "outputs": [
        {
          "output_type": "stream",
          "text": [
            "[[0.61350345 0.56410871 0.67764848 0.48747254 0.62244798]\n",
            " [0.16121958 0.57785045 0.00758699 0.19475628 0.33743041]\n",
            " [0.35301512 0.02890922 0.57368011 0.89984212 0.42213325]\n",
            " [0.28025036 0.92963782 0.14736508 0.02798572 0.30725771]\n",
            " [0.34969255 0.35388542 0.80747591 0.28906528 0.06667358]]\n",
            "[[0.71334192 0.64720492 0.95201583 0.76859949 0.14634237]\n",
            " [0.72635365 0.95169388 0.98635905 0.67909142 0.89017943]\n",
            " [0.08268511 0.66409222 0.49147683 0.61291212 0.96336093]\n",
            " [0.54546004 0.95823635 0.47836512 0.45216414 0.49201908]\n",
            " [0.52599688 0.20156842 0.51984759 0.11817469 0.92017171]]\n",
            "diagonal of a dot product method 1 is.... [1.49671407 0.91395517 1.29643938 0.98599542 1.34766387]\n",
            "diagonal of a dot product method 2 is.... [1.49671407 0.91395517 1.29643938 0.98599542 1.34766387]\n"
          ],
          "name": "stdout"
        }
      ]
    },
    {
      "cell_type": "markdown",
      "metadata": {
        "id": "s3BhUTYfFr1t",
        "colab_type": "text"
      },
      "source": [
        "# 13.How to find the most frequent value in an array?"
      ]
    },
    {
      "cell_type": "code",
      "metadata": {
        "id": "V9nzDDlPFr1t",
        "colab_type": "code",
        "colab": {
          "base_uri": "https://localhost:8080/",
          "height": 84
        },
        "outputId": "4b728901-bd21-4d76-f1b0-d757cc6f0671"
      },
      "source": [
        "a = np.random.randint(0,15,50)\n",
        "print(a)\n",
        "print(np.bincount(a).argmax())"
      ],
      "execution_count": 33,
      "outputs": [
        {
          "output_type": "stream",
          "text": [
            "[ 9  8  6 10  1  6  5  8 10  5 12  8  5  8 12 12 11  0 10 11  4 12  8 10\n",
            " 10  1 10 11 12 10  0  1  0 11  4 11  1  6  2  7  2 10 10  5  7  2 10  6\n",
            "  3  2]\n",
            "10\n"
          ],
          "name": "stdout"
        }
      ]
    },
    {
      "cell_type": "markdown",
      "metadata": {
        "id": "sCMQZwQ6Fr1w",
        "colab_type": "text"
      },
      "source": [
        "# 14.How to get the n largest values of an array"
      ]
    },
    {
      "cell_type": "code",
      "metadata": {
        "id": "JFSvCGaDFr1w",
        "colab_type": "code",
        "colab": {
          "base_uri": "https://localhost:8080/",
          "height": 34
        },
        "outputId": "d62937a8-6e21-4359-fd79-f4b7ff1295ba"
      },
      "source": [
        "a = np.arange(50000)\n",
        "np.random.shuffle(a)\n",
        "b = 10\n",
        "\n",
        "print(a[np.argsort(a)[-b:]])"
      ],
      "execution_count": 35,
      "outputs": [
        {
          "output_type": "stream",
          "text": [
            "[49990 49991 49992 49993 49994 49995 49996 49997 49998 49999]\n"
          ],
          "name": "stdout"
        }
      ]
    },
    {
      "cell_type": "markdown",
      "metadata": {
        "id": "iJP-GeExFr1z",
        "colab_type": "text"
      },
      "source": [
        "# 15.How to create a record array from a regular array?"
      ]
    },
    {
      "cell_type": "code",
      "metadata": {
        "id": "_QZsStOPFr1z",
        "colab_type": "code",
        "colab": {
          "base_uri": "https://localhost:8080/",
          "height": 34
        },
        "outputId": "2bb95a88-8bf5-4475-b0bc-6627330f0423"
      },
      "source": [
        "Z = np.array([(\"Hello\", 2.5, 3),\n",
        "              (\"World\", 3.6, 2)])\n",
        "R = np.core.records.fromarrays(Z.T,\n",
        "                               names='col1, col2, col3',\n",
        "                               formats = 'S8, f8, i8')\n",
        "print(R)"
      ],
      "execution_count": 36,
      "outputs": [
        {
          "output_type": "stream",
          "text": [
            "[(b'Hello', 2.5, 3) (b'World', 3.6, 2)]\n"
          ],
          "name": "stdout"
        }
      ]
    },
    {
      "cell_type": "code",
      "metadata": {
        "id": "6Z8XinwpFr12",
        "colab_type": "code",
        "colab": {}
      },
      "source": [
        ""
      ],
      "execution_count": null,
      "outputs": []
    }
  ]
}