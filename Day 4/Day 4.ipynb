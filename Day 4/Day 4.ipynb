{
 "cells": [
  {
   "cell_type": "code",
   "execution_count": 5,
   "metadata": {},
   "outputs": [
    {
     "name": "stdout",
     "output_type": "stream",
     "text": [
      "The real part of complex number is : 5.0\n",
      "The imaginary part of complex number is : 3.0\n",
      "addition =  (7+4j)\n",
      "subtraction =  (3+2j)\n",
      "multiplication =  (7+11j)\n",
      "division =  (2.6+0.2j)\n"
     ]
    }
   ],
   "source": [
    "import cmath \n",
    "\n",
    "x = 5\n",
    "u = 3\n",
    "\n",
    "i = 2\n",
    "j = 1\n",
    "\n",
    "z = complex(x,u)\n",
    "y = complex(i,j)\n",
    "  \n",
    "print (\"The real part of complex number is : \",end=\"\") \n",
    "print (z.real) \n",
    "  \n",
    "print (\"The imaginary part of complex number is : \",end=\"\") \n",
    "print (z.imag) \n",
    "\n",
    "\n",
    "print('addition = ', z + y)\n",
    "print('subtraction = ', z - y)\n",
    "print('multiplication = ', z * y)\n",
    "print('division = ', z / y)\n"
   ]
  },
  {
   "cell_type": "markdown",
   "metadata": {},
   "source": [
    "Direct Modulo and floor division of coplex numbers should not be possible, only done by import some class and creating function."
   ]
  },
  {
   "cell_type": "code",
   "execution_count": 8,
   "metadata": {},
   "outputs": [
    {
     "name": "stdout",
     "output_type": "stream",
     "text": [
      "[1, 2, 3, 4, 5, 6, 7, 8, 9]\n"
     ]
    }
   ],
   "source": [
    "l = range(1,10)\n",
    "print(list(l))"
   ]
  },
  {
   "cell_type": "markdown",
   "metadata": {},
   "source": [
    "Range is a inbuilt function provided in python. This help in creating list very easily just enter the first and last value in function this will create a list for you if you pass it to a list otherwise not work in variable create tuple, list easily. Make the creating of table very easy."
   ]
  },
  {
   "cell_type": "code",
   "execution_count": 9,
   "metadata": {},
   "outputs": [
    {
     "name": "stdout",
     "output_type": "stream",
     "text": [
      "1.5\n"
     ]
    }
   ],
   "source": [
    "a = 45\n",
    "b = 30\n",
    "\n",
    "if((a-b)>25):\n",
    "    print(a*b)\n",
    "    \n",
    "else:\n",
    "    print(a/b)"
   ]
  },
  {
   "cell_type": "code",
   "execution_count": 25,
   "metadata": {},
   "outputs": [
    {
     "name": "stdout",
     "output_type": "stream",
     "text": [
      "18\n",
      " \n",
      "24\n",
      " \n",
      "30\n",
      " \n",
      "36\n"
     ]
    }
   ],
   "source": [
    "for i in range(20,40,3):\n",
    "    if i%2 == 0:\n",
    "        print((i**1)-2)\n",
    "    else:\n",
    "        print(' ')"
   ]
  },
  {
   "cell_type": "code",
   "execution_count": 28,
   "metadata": {},
   "outputs": [
    {
     "name": "stdout",
     "output_type": "stream",
     "text": [
      "20\n",
      "23\n",
      "26\n",
      "29\n",
      "32\n",
      "35\n",
      "38\n"
     ]
    }
   ],
   "source": [
    "for i in range(20,40,3):\n",
    "    if (i/2)>7:\n",
    "        print(i)\n",
    "    else:\n",
    "        print(' ')"
   ]
  }
 ],
 "metadata": {
  "kernelspec": {
   "display_name": "Python 3",
   "language": "python",
   "name": "python3"
  },
  "language_info": {
   "codemirror_mode": {
    "name": "ipython",
    "version": 3
   },
   "file_extension": ".py",
   "mimetype": "text/x-python",
   "name": "python",
   "nbconvert_exporter": "python",
   "pygments_lexer": "ipython3",
   "version": "3.7.7"
  }
 },
 "nbformat": 4,
 "nbformat_minor": 4
}
